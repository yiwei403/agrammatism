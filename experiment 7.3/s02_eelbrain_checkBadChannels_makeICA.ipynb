{
 "cells": [
  {
   "cell_type": "code",
   "execution_count": null,
   "metadata": {},
   "outputs": [],
   "source": [
    "\n",
    "import runpy\n",
    "runpy.run_path('/Users/yiwei/Dropbox/agrammatism/code/s01_eelbrain_pipelineSetup.py')\n",
    "from s01_eelbrain_pipelineSetup import *"
   ]
  },
  {
   "cell_type": "markdown",
   "metadata": {},
   "source": [
    "### check channels that are uncorrelated with neighboring channels"
   ]
  },
  {
   "cell_type": "code",
   "execution_count": null,
   "metadata": {},
   "outputs": [],
   "source": [
    "\n",
    "# # plotting the average evoked response, and looking for channels which are uncorrelated with neighboring channels.\n",
    "# # megData.next('subject')\n",
    "\n",
    "subject = 'R3212'\n",
    "\n",
    "megData.set(raw = '1-40', subject = subject)\n",
    "data = megData.load_epochs(epoch ='trial_iconfirst', reject=False)\n",
    "p = plot.TopoButterfly(data['meg'])\n",
    "nc = neighbor_correlation(concatenate(data['meg']))\n",
    "plot.Topomap(nc)\n",
    "print(nc.sensor.names[nc < 0.4])\n",
    "# megData.make_bad_channels([''])\n",
    "\n",
    "data = megData.load_epochs(epoch ='trial_picturefirst', reject=False)\n",
    "p = plot.TopoButterfly(data['meg'])\n",
    "nc = neighbor_correlation(concatenate(data['meg']))\n",
    "plot.Topomap(nc)\n",
    "print(nc.sensor.names[nc < 0.4])\n",
    "\n",
    "# # add bad channels into the megData object.\n",
    "# megData.make_bad_channels([''])"
   ]
  },
  {
   "cell_type": "markdown",
   "metadata": {},
   "source": [
    "### run ICA on both sessions. "
   ]
  },
  {
   "cell_type": "code",
   "execution_count": null,
   "metadata": {},
   "outputs": [],
   "source": [
    "\n",
    "# subjects = ['R3212']\n",
    "# sessions = ['iconfirst', 'picturefirst']\n",
    "\n",
    "# for subject in subjects:\n",
    "#     for session in sessions:        \n",
    "#         megData.set(raw = 'ica-'+session, session=session, subject=subject)\n",
    "#         megData.make_ica()\n"
   ]
  }
 ],
 "metadata": {
  "kernelspec": {
   "display_name": "eelbrain",
   "language": "python",
   "name": "python3"
  },
  "language_info": {
   "codemirror_mode": {
    "name": "ipython",
    "version": 3
   },
   "file_extension": ".py",
   "mimetype": "text/x-python",
   "name": "python",
   "nbconvert_exporter": "python",
   "pygments_lexer": "ipython3",
   "version": "3.12.5"
  }
 },
 "nbformat": 4,
 "nbformat_minor": 2
}
