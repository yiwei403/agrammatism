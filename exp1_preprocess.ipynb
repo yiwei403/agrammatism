{
 "cells": [
  {
   "cell_type": "markdown",
   "metadata": {},
   "source": [
    "# experiment 1 preprocess"
   ]
  },
  {
   "cell_type": "markdown",
   "metadata": {},
   "source": [
    "##### This script converts .mp4 or .webm files to .wav files and uses MFA to extract sentence onset time."
   ]
  },
  {
   "cell_type": "markdown",
   "metadata": {},
   "source": [
    "### load packages and set up group-level file directories"
   ]
  },
  {
   "cell_type": "code",
   "execution_count": 11,
   "metadata": {
    "editable": true,
    "slideshow": {
     "slide_type": ""
    },
    "tags": []
   },
   "outputs": [],
   "source": [
    "import pandas as pd\n",
    "import os\n",
    "import subprocess\n",
    "import textgrid\n",
    "import matplotlib.pyplot as plt\n",
    "import seaborn as sns\n",
    "import whisper\n",
    "from glob import glob\n",
    "import warnings\n",
    "warnings.filterwarnings('ignore')\n",
    "os.environ[\"KMP_DUPLICATE_LIB_OK\"] = \"TRUE\"\n",
    "import zipfile\n",
    "import wave\n",
    "\n",
    "stimuli_file = 'exp1b.csv'\n",
    "data_dir = '/Users/yiwei403/Documents/SONA_data/Exp1/'\n",
    "stimuli_df = pd.read_csv(os.path.join(data_dir,stimuli_file))"
   ]
  },
  {
   "cell_type": "markdown",
   "metadata": {},
   "source": [
    "### set up subject-level file directories"
   ]
  },
  {
   "cell_type": "code",
   "execution_count": 2,
   "metadata": {
    "editable": true,
    "slideshow": {
     "slide_type": ""
    },
    "tags": []
   },
   "outputs": [
    {
     "name": "stdout",
     "output_type": "stream",
     "text": [
      "participant`s unique id is 0ea2-3fe3-bc77-ed63\n"
     ]
    }
   ],
   "source": [
    "subject_id = 'SP035'\n",
    "subject_folder = os.path.join(data_dir,subject_id)\n",
    "wavs_folder = os.makedirs(os.path.join(data_dir,subject_id,'wavs'), exist_ok=True)\n",
    "wavs_dir = os.path.join(data_dir,subject_id,'wavs')\n",
    "chopped_wavs_folder = os.makedirs(os.path.join(data_dir, subject_id, 'chopped_wavs'), exist_ok=True)\n",
    "chopped_wavs_dir = os.path.join(data_dir, subject_id, 'chopped_wavs')\n",
    "# transcription_file = f\"{subject}_transcription.csv\"\n",
    "pcibex_log = f'{subject_id}_Exp1_pcibex_clean.xlsx'\n",
    "pcibex_log_df = pd.read_excel(os.path.join(subject_folder, pcibex_log))\n",
    "row_index = pcibex_log_df[pcibex_log_df['Label']=='exp1Task'].index[0]\n",
    "unique_id = pcibex_log_df.at[row_index, 'uniqueID']\n",
    "print(f'participant`s unique id is {unique_id}')"
   ]
  },
  {
   "cell_type": "markdown",
   "metadata": {},
   "source": [
    "### convert .mp4 or .webm files to .wav files"
   ]
  },
  {
   "cell_type": "code",
   "execution_count": 3,
   "metadata": {},
   "outputs": [
    {
     "name": "stdout",
     "output_type": "stream",
     "text": [
      "ffmpeg process done\n"
     ]
    }
   ],
   "source": [
    "for file in os.listdir(os.path.join(subject_folder,'raw_audio')):\n",
    "    if file.endswith(('.mp4', '.webm')):\n",
    "        file_name = (os.path.splitext(os.path.basename(file))[0])\n",
    "        # print(file_name)\n",
    "        subprocess.call(['ffmpeg', '-loglevel', 'error', '-i', f'{subject_folder}/raw_audio/{file}', f'{wavs_dir}/{file_name}.wav'])\n",
    "\n",
    "print('ffmpeg process done')"
   ]
  },
  {
   "cell_type": "markdown",
   "metadata": {},
   "source": [
    "### chopping the first 1750ms (fixation cross 1000ms + task icon 750ms) off of each wav file"
   ]
  },
  {
   "cell_type": "code",
   "execution_count": 4,
   "metadata": {},
   "outputs": [
    {
     "name": "stdout",
     "output_type": "stream",
     "text": [
      "finished cropping all the .wav files\n"
     ]
    }
   ],
   "source": [
    "for wav_file in os.listdir(wavs_dir):\n",
    "    if wav_file.endswith('.wav'):\n",
    "        wav_file_path = os.path.join(wavs_dir, wav_file)\n",
    "        chopped_wav_file_path = os.path.join(chopped_wavs_dir, wav_file)\n",
    "        try:\n",
    "            with wave.open(wav_file_path, 'rb') as wav_in:\n",
    "                frame_rate = wav_in.getframerate()\n",
    "                params = wav_in.getparams()\n",
    "                n_frames = wav_in.getnframes()\n",
    "                # print(frame_rate)\n",
    "                # removing the first 1.75 second\n",
    "                frames_to_remove = int(1.75 * frame_rate)\n",
    "\n",
    "                wav_in.setpos(frames_to_remove)\n",
    "                remaining_frames = wav_in.readframes(n_frames - frames_to_remove)\n",
    "            with wave.open(chopped_wav_file_path, 'wb') as wav_out:\n",
    "                wav_out.setparams(params)\n",
    "                wav_out.writeframes(remaining_frames)\n",
    "        except wave.Error as e:\n",
    "            print(f'Error processing {wav_file}: {e}')\n",
    "        except Exception as e:\n",
    "            print(f'an unexpected error occured while processing {wav_file}: {e}')\n",
    "print('finished cropping all the .wav files')\n",
    "            "
   ]
  },
  {
   "cell_type": "markdown",
   "metadata": {},
   "source": [
    "### compare itemcode between stimuli file and pcibex log file"
   ]
  },
  {
   "cell_type": "code",
   "execution_count": null,
   "metadata": {},
   "outputs": [],
   "source": []
  },
  {
   "cell_type": "markdown",
   "metadata": {
    "editable": true,
    "slideshow": {
     "slide_type": ""
    },
    "tags": []
   },
   "source": [
    "### use stimuli file as transcription"
   ]
  },
  {
   "cell_type": "code",
   "execution_count": 5,
   "metadata": {},
   "outputs": [],
   "source": [
    "# Loop over the stimuli file rows\n",
    "for index, row in stimuli_df.iterrows():\n",
    "    \n",
    "    content = row['sentence']\n",
    "    # Define the name of the text file\n",
    "    txt_file_name = f\"{row['trialtype']}_{row['itemcode']}_{unique_id}.txt\"\n",
    "    \n",
    "    # Define the path to the text file\n",
    "    txt_file_path = os.path.join(chopped_wavs_dir, txt_file_name)\n",
    "    # Add the key-value pair to the dictionary, where the value is the third column of the current row\n",
    "    with open(txt_file_path, 'w') as files:\n",
    "        files.write(content)"
   ]
  },
  {
   "cell_type": "markdown",
   "metadata": {},
   "source": [
    "### apply MFA to each .txt/.wav file pair and get a .TextGrid file with word onset time for each target word"
   ]
  },
  {
   "cell_type": "code",
   "execution_count": 6,
   "metadata": {
    "editable": true,
    "slideshow": {
     "slide_type": ""
    },
    "tags": []
   },
   "outputs": [
    {
     "name": "stdout",
     "output_type": "stream",
     "text": [
      "MFA done! 51 generated.\n"
     ]
    }
   ],
   "source": [
    "# Define the command and arguments\n",
    "command = 'mfa'\n",
    "args1 = ['server', 'start']\n",
    "args2 = ['align', '--clean', '--use_postgres', '--overwrite', chopped_wavs_dir, 'english_mfa', 'english_mfa', chopped_wavs_dir]\n",
    "\n",
    "# Run the command\n",
    "subprocess.run([command] + args1)\n",
    "subprocess.run([command] + args2)\n",
    "\n",
    "# remove all the .txt files in the folder. \n",
    "# subprocess.run(f'rm {wavs_dir}/*.txt', shell=True)\n",
    "\n",
    "mfa_output_files = os.listdir(chopped_wavs_dir)\n",
    "textgrid_files = [f for f in mfa_output_files if f.endswith('.TextGrid')]\n",
    "\n",
    "print(f'MFA done! {str(len(textgrid_files))} generated.')\n"
   ]
  },
  {
   "cell_type": "markdown",
   "metadata": {},
   "source": [
    "### extract word onset time from each .TextGrid file and generate a .csv file (wordOnsetTime.csv)"
   ]
  },
  {
   "cell_type": "code",
   "execution_count": 7,
   "metadata": {},
   "outputs": [],
   "source": [
    "# Create an empty DataFrame to store the results\n",
    "results = pd.DataFrame(columns=['filename', 'subject', 'itemcode', 'trialtype', 'target_sentence', 'MFA_sentence_onset','stim_time'])\n",
    "from decimal import Decimal\n",
    "for file in os.listdir(chopped_wavs_dir):\n",
    "    \n",
    "    # Check if the file is a TextGrid file\n",
    "    if file.endswith('.TextGrid'):\n",
    "        \n",
    "        # Extract the item code from the file name\n",
    "        file_name = file[:-9]\n",
    "        trial_type = file_name.split('_')[0]\n",
    "        item_code = file_name.split('_')[1]  \n",
    "        \n",
    "        if item_code in pcibex_log_df['itemcode'].values:\n",
    "            # get the df of the current trial\n",
    "            trial_df = pcibex_log_df[pcibex_log_df['itemcode'] == item_code]\n",
    "            # trial_df['event_time'] = trial_df['event_time'].apply(lambda x: int(Decimal(x)))\n",
    "\n",
    "            recording_start_row = trial_df[(trial_df['Parameter'] == 'Recording') & (trial_df['Value'] == 'Start')]\n",
    "            recording_start_time = recording_start_row['EventTime'].values[0]\n",
    "            # print(recording_start_time)\n",
    "         \n",
    "            target_print_row = trial_df[(trial_df['PennElementName'].isin(['obj', 'action'])) & (trial_df['Parameter'] == 'Print')]\n",
    "            target_print_time = target_print_row['EventTime'].values[0]\n",
    "            # print(target_print_time)\n",
    "            \n",
    "            stim_time = int(target_print_time) - int(recording_start_time) - 1750\n",
    "\n",
    "            # Get the transcription of the target word corresponding to the item code\n",
    "            target_sentence = pcibex_log_df.loc[pcibex_log_df['itemcode'] == item_code, 'sentence'].values[0] \n",
    "            \n",
    "            new_row = pd.DataFrame({\n",
    "                    'filename': [file_name],\n",
    "                    'subject': [subject_id],\n",
    "                    'itemcode': [item_code],\n",
    "                    'trialtype':[trial_type],                \n",
    "                    'target_sentence': [target_sentence],\n",
    "                    'stim_time':[stim_time],\n",
    "                })\n",
    "            \n",
    "            # Read the TextGrid file\n",
    "            textGridFile = textgrid.TextGrid.fromFile(os.path.join(chopped_wavs_dir, file))\n",
    "            \n",
    "            # Extract the word tier from the TextGrid file, and find the onset time of the target word\n",
    "            wordTier = textGridFile.tiers[0]\n",
    "            for interval in wordTier:\n",
    "                if interval.mark != \"\":\n",
    "                    # Create a new row with the item code, target word, file name, and onset time\n",
    "                    new_row['MFA_sentence_onset'] = interval.minTime - stim_time/1000\n",
    "                    break\n",
    "                else:\n",
    "                    new_row['MFA_sentence_onset'] = None\n",
    "                    \n",
    "            results = pd.concat([results, new_row], ignore_index=True)\n",
    "            # results = pd.concat([results, new_row])\n",
    "        else:\n",
    "            print(f'{item_code} not in stimuli_df')\n",
    "\n",
    "\n",
    "# Save the results to a .csv file\n",
    "results.to_csv(os.path.join(data_dir, subject_id, f'{subject_id}_Exp1_adjustedSentenceOnsetTime.csv'), index=False)"
   ]
  },
  {
   "cell_type": "markdown",
   "metadata": {},
   "source": [
    "### plot individual subject' word onset times by condition "
   ]
  },
  {
   "cell_type": "code",
   "execution_count": 8,
   "metadata": {},
   "outputs": [
    {
     "data": {
      "image/png": "[encoded data removed]",
      "text/plain": [
       "<Figure size 1000x600 with 1 Axes>"
      ]
     },
     "metadata": {},
     "output_type": "display_data"
    }
   ],
   "source": [
    "subject_id = subject_id\n",
    "# whether to plot by 'trialtype' or 'tense'\n",
    "condition = 'trialtype'\n",
    "\n",
    "results = pd.read_csv(os.path.join(data_dir,subject_id, f'{subject_id}_Exp1_adjustedSentenceOnsetTime.csv'))\n",
    "mean_mfa_onset_time = results.groupby(condition).agg({'MFA_sentence_onset':'mean'}).reset_index()\n",
    "# mean_mfa_onset_time['MFA_sentence_onset']=mean_mfa_onset_time['MFA_sentence_onset']\n",
    "\n",
    "# plot using seaborn\n",
    "plt.figure(figsize=(10, 6))\n",
    "sns.barplot(x=condition, y='MFA_sentence_onset', data=mean_mfa_onset_time, errorbar='sd')\n",
    "plt.title(f\"{subject_id}: mean mfa onset time by {condition}\")\n",
    "plt.xlabel(condition)\n",
    "plt.ylabel(\"mean mfa sentence onset time\")\n",
    "# plt.ylim(0.75,1.5)\n",
    "plt.xticks(rotation=45)\n",
    "plt.show()"
   ]
  },
  {
   "cell_type": "code",
   "execution_count": 19,
   "metadata": {},
   "outputs": [
    {
     "data": {
      "image/png": "[encoded data removed]",
      "text/plain": [
       "<Figure size 640x480 with 1 Axes>"
      ]
     },
     "metadata": {},
     "output_type": "display_data"
    }
   ],
   "source": [
    "subject_folders = [item for item in os.listdir(data_dir) if item.startswith('SP')]\n",
    "# print(subject_folders)\n",
    "\n",
    "group_df = []\n",
    "\n",
    "for subject_folder in subject_folders:\n",
    "    subject_folder_path = os.path.join(data_dir, subject_folder)\n",
    "    # print(subject_folder_path)\n",
    "    csv_file = glob(os.path.join(subject_folder_path, \"*_adjustedSentenceOnsetTime.csv\"))\n",
    "    # print(csv_file)\n",
    "    if csv_file:\n",
    "        csv_file = csv_file[0]\n",
    "        # print(csv_file)\n",
    "        df = pd.read_csv(csv_file)\n",
    "    group_df.append(df)\n",
    "\n",
    "all_data = pd.concat(group_df, ignore_index=True)\n",
    "\n",
    "group_average = all_data.groupby(condition)['MFA_sentence_onset'].mean()\n",
    "subject_average = all_data.groupby(['subject', condition])['MFA_sentence_onset'].mean()\n",
    "\n",
    "group_plot = group_average.plot(kind='bar', color = '#6A5ACD')\n",
    "\n",
    "for IV in group_average.index:\n",
    "    # print(IV)\n",
    "    IV_data = subject_average[subject_average.index.get_level_values(condition) == IV]\n",
    "    # print(IV_data)\n",
    "    group_plot.scatter([IV] * len(IV_data), IV_data.values, color = '#FF8C00')\n",
    "    # print(IV_data.values)\n",
    "\n",
    "plt.xlabel('condition')\n",
    "plt.ylabel('mean MFA onset time(s)')\n",
    "plt.title('Exp1 group mean MFA onset time by condition')\n",
    "plt.xticks(rotation=45)\n",
    "plt.show()           "
   ]
  },
  {
   "cell_type": "code",
   "execution_count": null,
   "metadata": {},
   "outputs": [],
   "source": []
  }
 ],
 "metadata": {
  "kernelspec": {
   "display_name": "Python 3 (ipykernel)",
   "language": "python",
   "name": "python3"
  },
  "language_info": {
   "codemirror_mode": {
    "name": "ipython",
    "version": 3
   },
   "file_extension": ".py",
   "mimetype": "text/x-python",
   "name": "python",
   "nbconvert_exporter": "python",
   "pygments_lexer": "ipython3",
   "version": "3.11.10"
  }
 },
 "nbformat": 4,
 "nbformat_minor": 4
}
